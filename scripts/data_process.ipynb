{
 "cells": [
  {
   "cell_type": "code",
   "execution_count": 2,
   "metadata": {},
   "outputs": [],
   "source": [
    "import cv2\n",
    "import os\n",
    "import matplotlib.pyplot as plt\n",
    "import h5py\n",
    "import numpy as np"
   ]
  },
  {
   "cell_type": "code",
   "execution_count": 57,
   "metadata": {},
   "outputs": [],
   "source": [
    "raw_data_dir = \"~/.datasets/ck/\"\n",
    "raw_data_dir = os.path.expanduser(raw_data_dir)"
   ]
  },
  {
   "cell_type": "code",
   "execution_count": 58,
   "metadata": {},
   "outputs": [],
   "source": [
    "ck_dir =raw_data_dir + 'CK+48/'"
   ]
  },
  {
   "cell_type": "code",
   "execution_count": 59,
   "metadata": {},
   "outputs": [
    {
     "data": {
      "text/plain": [
       "['anger', 'contempt', 'disgust', 'fear', 'happy', 'sadness', 'surprise']"
      ]
     },
     "execution_count": 59,
     "metadata": {},
     "output_type": "execute_result"
    }
   ],
   "source": [
    "emotion_folder = \"anger  contempt  disgust  fear  happy  sadness  surprise\".split()\n",
    "emotion_folder"
   ]
  },
  {
   "cell_type": "code",
   "execution_count": 60,
   "metadata": {},
   "outputs": [],
   "source": [
    "# save to h5py\n",
    "hf = h5py.File(raw_data_dir + 'ck.h5', 'w')"
   ]
  },
  {
   "cell_type": "code",
   "execution_count": 61,
   "metadata": {},
   "outputs": [],
   "source": [
    "#classes = ['Neutral - NE', 'Anger - AN', 'Contempt - CO', \n",
    "#'Disgust - DI', 'Fear - FR', 'Happiness - HA', 'Sadness - SA', 'Surprise - SU']\n",
    "# classes = ['AN', 'CO','DI', 'FR', 'HA','SA','SU']\n",
    "classes = np.arange(len(emotion_folder)) + 1"
   ]
  },
  {
   "cell_type": "code",
   "execution_count": 62,
   "metadata": {},
   "outputs": [
    {
     "name": "stdout",
     "output_type": "stream",
     "text": [
      "current emotion /home/haixuanguo/.datasets/ck/CK+48/anger\n",
      "data size 135\n",
      "current emotion /home/haixuanguo/.datasets/ck/CK+48/contempt\n",
      "data size 54\n",
      "current emotion /home/haixuanguo/.datasets/ck/CK+48/disgust\n",
      "data size 177\n",
      "current emotion /home/haixuanguo/.datasets/ck/CK+48/fear\n",
      "data size 75\n",
      "current emotion /home/haixuanguo/.datasets/ck/CK+48/happy\n",
      "data size 207\n",
      "current emotion /home/haixuanguo/.datasets/ck/CK+48/sadness\n",
      "data size 84\n",
      "current emotion /home/haixuanguo/.datasets/ck/CK+48/surprise\n",
      "data size 249\n"
     ]
    }
   ],
   "source": [
    "data = []\n",
    "points = []\n",
    "imsize = []\n",
    "iactor = []\n",
    "iclass = [] \n",
    "name = []\n",
    "num = []\n",
    "\n",
    "for idx, folder in enumerate(emotion_folder):\n",
    "    emotion_dir = os.path.join(ck_dir, folder)\n",
    "    print(\"current emotion\", emotion_dir)\n",
    "\n",
    "    filelist = os.listdir(emotion_dir)\n",
    "    print(\"data size\", len(filelist))\n",
    "\n",
    "    for file in filelist:\n",
    "        img = cv2.imread(os.path.join(emotion_dir, file))\n",
    "        data.append(img)\n",
    "        imsize.append(img.shape)\n",
    "        iactor.append(int(file.split('_')[0].strip('S')))\n",
    "        iclass.append(classes[idx])\n"
   ]
  },
  {
   "cell_type": "markdown",
   "metadata": {},
   "source": [
    "# create neutral "
   ]
  },
  {
   "cell_type": "code",
   "execution_count": 63,
   "metadata": {},
   "outputs": [],
   "source": [
    "iactor = np.array(iactor)\n",
    "data = np.array(data)\n",
    "imsize = np.array(imsize)\n",
    "iclass = np.array(iclass)"
   ]
  },
  {
   "cell_type": "code",
   "execution_count": 64,
   "metadata": {},
   "outputs": [],
   "source": [
    "neutral_actor = np.random.permutation(np.unique(iactor))[:33]\n",
    "neutral_index = []\n",
    "for actor in neutral_actor:\n",
    "    idx = np.where(iactor == actor)[0][0]\n",
    "    neutral_index.append(idx)\n",
    "\n",
    "iclass[neutral_index] = 0"
   ]
  },
  {
   "cell_type": "code",
   "execution_count": 65,
   "metadata": {},
   "outputs": [
    {
     "data": {
      "text/plain": [
       "(array([0, 1, 2, 3, 4, 5, 6, 7]),\n",
       " array([ 33, 124,  52, 164,  74, 203,  84, 247]))"
      ]
     },
     "execution_count": 65,
     "metadata": {},
     "output_type": "execute_result"
    }
   ],
   "source": [
    "np.unique(iclass, return_counts=True)"
   ]
  },
  {
   "cell_type": "markdown",
   "metadata": {},
   "source": [
    "# sampling by class"
   ]
  },
  {
   "cell_type": "code",
   "execution_count": 66,
   "metadata": {},
   "outputs": [],
   "source": [
    "# 45 Angry, 18 Contempt, 58 Disgust, 25 Fear, 69 Happy, 28 Sadness and 82 Surprise\n",
    "class_num = [33, 45, 18, 58, 25, 69, 28, 82]"
   ]
  },
  {
   "cell_type": "code",
   "execution_count": 67,
   "metadata": {},
   "outputs": [],
   "source": [
    "sample_index = []\n",
    "for i in range(8):\n",
    "    sample_index += list(np.where(iclass == i)[0][:class_num[i]])"
   ]
  },
  {
   "cell_type": "code",
   "execution_count": 68,
   "metadata": {},
   "outputs": [
    {
     "data": {
      "text/plain": [
       "358"
      ]
     },
     "execution_count": 68,
     "metadata": {},
     "output_type": "execute_result"
    }
   ],
   "source": [
    "len(sample_index)"
   ]
  },
  {
   "cell_type": "code",
   "execution_count": 69,
   "metadata": {},
   "outputs": [],
   "source": [
    "data = data[sample_index]\n",
    "imsize = imsize[sample_index]\n",
    "iactor = iactor[sample_index]\n",
    "iclass = iclass[sample_index]"
   ]
  },
  {
   "cell_type": "code",
   "execution_count": 70,
   "metadata": {},
   "outputs": [
    {
     "name": "stdout",
     "output_type": "stream",
     "text": [
      "<KeysViewHDF5 ['data', 'iactor', 'iclass', 'imsize', 'num']>\n"
     ]
    }
   ],
   "source": [
    "hf.create_dataset('data', data=data)\n",
    "hf.create_dataset('imsize', data=imsize)\n",
    "hf.create_dataset('iactor', data=iactor)\n",
    "hf.create_dataset('iclass', data=iclass)\n",
    "hf.create_dataset('num', data=8)\n",
    "print(hf.keys())"
   ]
  },
  {
   "cell_type": "code",
   "execution_count": 71,
   "metadata": {},
   "outputs": [],
   "source": [
    "hf.close()"
   ]
  },
  {
   "cell_type": "code",
   "execution_count": 72,
   "metadata": {},
   "outputs": [
    {
     "name": "stdout",
     "output_type": "stream",
     "text": [
      "<KeysViewHDF5 ['data', 'iactor', 'iclass', 'imsize', 'num']>\n"
     ]
    }
   ],
   "source": [
    "with h5py.File(raw_data_dir + 'ck.h5', 'r') as f:\n",
    "    print(f.keys())\n",
    "f.close()"
   ]
  },
  {
   "cell_type": "code",
   "execution_count": 10,
   "metadata": {},
   "outputs": [],
   "source": []
  },
  {
   "cell_type": "code",
   "execution_count": null,
   "metadata": {},
   "outputs": [],
   "source": []
  }
 ],
 "metadata": {
  "kernelspec": {
   "display_name": "Python 3",
   "language": "python",
   "name": "python3"
  },
  "language_info": {
   "codemirror_mode": {
    "name": "ipython",
    "version": 3
   },
   "file_extension": ".py",
   "mimetype": "text/x-python",
   "name": "python",
   "nbconvert_exporter": "python",
   "pygments_lexer": "ipython3",
   "version": "3.8.5"
  }
 },
 "nbformat": 4,
 "nbformat_minor": 4
}
