{
 "cells": [
  {
   "cell_type": "code",
   "execution_count": 1,
   "metadata": {},
   "outputs": [],
   "source": [
    "import cv2\n",
    "import os\n",
    "import matplotlib.pyplot as plt\n",
    "import h5py\n",
    "import numpy as np"
   ]
  },
  {
   "cell_type": "code",
   "execution_count": 22,
   "metadata": {},
   "outputs": [],
   "source": [
    "raw_data_dir = \"~/.datasets/ck/\"\n",
    "raw_data_dir = os.path.expanduser(raw_data_dir)"
   ]
  },
  {
   "cell_type": "code",
   "execution_count": 23,
   "metadata": {},
   "outputs": [],
   "source": [
    "ck_dir =raw_data_dir + 'CK+48/'"
   ]
  },
  {
   "cell_type": "code",
   "execution_count": 31,
   "metadata": {},
   "outputs": [
    {
     "data": {
      "text/plain": [
       "['anger', 'contempt', 'disgust', 'fear', 'happy', 'sadness', 'surprise']"
      ]
     },
     "execution_count": 31,
     "metadata": {},
     "output_type": "execute_result"
    }
   ],
   "source": [
    "emotion_folder = \"anger  contempt  disgust  fear  happy  sadness  surprise\".split()\n",
    "emotion_folder"
   ]
  },
  {
   "cell_type": "code",
   "execution_count": 65,
   "metadata": {},
   "outputs": [],
   "source": [
    "# save to h5py\n",
    "hf = h5py.File(raw_data_dir + 'ck_small.h5', 'w')"
   ]
  },
  {
   "cell_type": "code",
   "execution_count": 66,
   "metadata": {},
   "outputs": [],
   "source": [
    "# group = hf.create_group('a_group')"
   ]
  },
  {
   "cell_type": "code",
   "execution_count": 67,
   "metadata": {},
   "outputs": [],
   "source": [
    "#classes = ['Neutral - NE', 'Anger - AN', 'Contempt - CO', \n",
    "#'Disgust - DI', 'Fear - FR', 'Happiness - HA', 'Sadness - SA', 'Surprise - SU']\n",
    "# classes = ['AN', 'CO','DI', 'FR', 'HA','SA','SU']\n",
    "classes = np.arange(len(emotion_folder))"
   ]
  },
  {
   "cell_type": "code",
   "execution_count": 68,
   "metadata": {},
   "outputs": [
    {
     "name": "stdout",
     "output_type": "stream",
     "text": [
      "current emotion /home/haixuanguo/.datasets/ck/CK+48/anger\n",
      "data size 10\n",
      "current emotion /home/haixuanguo/.datasets/ck/CK+48/contempt\n",
      "data size 10\n",
      "current emotion /home/haixuanguo/.datasets/ck/CK+48/disgust\n",
      "data size 10\n",
      "current emotion /home/haixuanguo/.datasets/ck/CK+48/fear\n",
      "data size 10\n",
      "current emotion /home/haixuanguo/.datasets/ck/CK+48/happy\n",
      "data size 10\n",
      "current emotion /home/haixuanguo/.datasets/ck/CK+48/sadness\n",
      "data size 10\n",
      "current emotion /home/haixuanguo/.datasets/ck/CK+48/surprise\n",
      "data size 10\n",
      "<KeysViewHDF5 ['data', 'iactor', 'iclass', 'imsize', 'num']>\n"
     ]
    }
   ],
   "source": [
    "data = []\n",
    "points = []\n",
    "imsize = []\n",
    "iactor = []\n",
    "iclass = [] \n",
    "name = []\n",
    "num = []\n",
    "\n",
    "for emotion_index in classes:\n",
    "    emotion_dir = os.path.join(ck_dir, emotion_folder[emotion_index])\n",
    "    print(\"current emotion\", emotion_dir)\n",
    "\n",
    "    filelist = os.listdir(emotion_dir)[:10]\n",
    "    print(\"data size\", len(filelist))\n",
    "\n",
    "    for file in filelist:\n",
    "        img = cv2.imread(os.path.join(emotion_dir, file))\n",
    "        data.append(img)\n",
    "        imsize.append(img.shape)\n",
    "        iactor.append(int(file.split('_')[0].strip('S')))\n",
    "        iclass.append(classes[emotion_index])\n",
    "#         name.append(np.array(file))\n",
    "    \n",
    "hf.create_dataset('data', data=data)\n",
    "hf.create_dataset('imsize', data=imsize)\n",
    "hf.create_dataset('iactor', data=iactor)\n",
    "hf.create_dataset('iclass', data=iclass)\n",
    "hf.create_dataset('num', data=len(classes))\n",
    "print(hf.keys())"
   ]
  },
  {
   "cell_type": "code",
   "execution_count": 69,
   "metadata": {},
   "outputs": [],
   "source": [
    "hf.close()"
   ]
  },
  {
   "cell_type": "code",
   "execution_count": 70,
   "metadata": {},
   "outputs": [
    {
     "name": "stdout",
     "output_type": "stream",
     "text": [
      "<KeysViewHDF5 ['data', 'iactor', 'iclass', 'imsize', 'num']>\n"
     ]
    }
   ],
   "source": [
    "with h5py.File(raw_data_dir + 'ck.h5', 'r') as f:\n",
    "    print(f.keys())\n",
    "f.close()"
   ]
  },
  {
   "cell_type": "code",
   "execution_count": 10,
   "metadata": {},
   "outputs": [],
   "source": []
  },
  {
   "cell_type": "code",
   "execution_count": null,
   "metadata": {},
   "outputs": [],
   "source": []
  }
 ],
 "metadata": {
  "kernelspec": {
   "display_name": "Python 3",
   "language": "python",
   "name": "python3"
  },
  "language_info": {
   "codemirror_mode": {
    "name": "ipython",
    "version": 3
   },
   "file_extension": ".py",
   "mimetype": "text/x-python",
   "name": "python",
   "nbconvert_exporter": "python",
   "pygments_lexer": "ipython3",
   "version": "3.8.5"
  }
 },
 "nbformat": 4,
 "nbformat_minor": 4
}
