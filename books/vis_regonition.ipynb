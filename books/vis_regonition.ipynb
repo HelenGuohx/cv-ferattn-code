{
 "cells": [
  {
   "cell_type": "code",
   "execution_count": 111,
   "metadata": {},
   "outputs": [],
   "source": [
    "import os\n",
    "import sys\n",
    "import argparse\n",
    "import numpy as np\n",
    "import pandas as pd\n",
    "import cv2\n",
    "import matplotlib.pyplot as plt \n",
    "from tqdm import tqdm\n",
    "\n",
    "import torch\n",
    "import torch.nn.functional as TF\n",
    "import torch.backends.cudnn as cudnn\n",
    "from torch.utils.data import DataLoader\n",
    "from torchvision import transforms, utils\n",
    "\n",
    "from pytvision.transforms.aumentation import  ObjectImageMetadataTransform\n",
    "from pytvision.transforms import transforms as mtrans\n",
    "\n",
    "sys.path.append('../')\n",
    "from torchlib.transforms import functional as F\n",
    "from torchlib.datasets.factory  import FactoryDataset\n",
    "from torchlib.datasets.datasets import Dataset\n",
    "from torchlib.datasets.fersynthetic  import SyntheticFaceDataset\n",
    "\n",
    "from torchlib.attentionnet import AttentionNeuralNet, AttentionGMMNeuralNet\n",
    "from torchlib.classnet import ClassNeuralNet\n",
    "\n",
    "from aug import get_transforms_aug, get_transforms_det"
   ]
  },
  {
   "cell_type": "code",
   "execution_count": 112,
   "metadata": {},
   "outputs": [
    {
     "data": {
      "text/plain": [
       "'../out/attnet/feratt_attnet_ferattention_attloss_adam_ck_synthetic_filter128_dim32_bbpreactresnet_fold5_000/models/model_best.pth.tar'"
      ]
     },
     "execution_count": 112,
     "metadata": {},
     "output_type": "execute_result"
    }
   ],
   "source": [
    "pathnamemodel"
   ]
  },
  {
   "cell_type": "code",
   "execution_count": 113,
   "metadata": {},
   "outputs": [],
   "source": [
    "project         = '../out/attnet/'\n",
    "# projectname     = \"feratt_attnet_ferattention_attloss_adam_ck_real_filter32_pool_size2_dim32_bbpreactresnet_fold5_000\"\n",
    "projectname     = \"feratt_attnet_ferattention_attloss_adam_ck_synthetic_filter128_dim32_bbpreactresnet_fold5_000\"\n",
    "pathnamedataset = \"~/.datasets/\"  \n",
    "pathnamemodel   = project + projectname + \"/models/model_best.pth.tar\"\n",
    "pathproject     = os.path.join( project, projectname )\n",
    "namedataset     = \"ck\"\n",
    "breal           = 'real'\n",
    "name_method      = 'attnet'\n",
    "iteration       = 2000\n",
    "\n",
    "fname = name_method\n",
    "fnet = {\n",
    "    'attnet': AttentionNeuralNet,\n",
    "    'attgmmnet': AttentionGMMNeuralNet,\n",
    "    'classnet': ClassNeuralNet,\n",
    "\n",
    "}\n",
    "\n",
    "no_cuda=False\n",
    "parallel=False\n",
    "gpu=0\n",
    "seed=1\n",
    "brepresentation=True\n",
    "bclassification_test=True\n",
    "brecover_test=False\n",
    "\n",
    "imagesize=64\n",
    "kfold = 5\n",
    "nactores = 10\n",
    "idenselect = np.arange(nactores) + kfold * nactores\n",
    "\n",
    "# experiments\n",
    "experiments = [ \n",
    "    { 'name': namedataset,        'subset': FactoryDataset.training,   'status': breal },\n",
    "#     { 'name': namedataset,        'subset': FactoryDataset.validation, 'status': breal },\n",
    "    # { 'name': namedataset+'dark', 'subset': FactoryDataset.training,   'real': False },\n",
    "    # { 'name': namedataset+'dark', 'subset': FactoryDataset.validation, 'real': False },\n",
    "    ]\n",
    "    "
   ]
  },
  {
   "cell_type": "code",
   "execution_count": 114,
   "metadata": {},
   "outputs": [],
   "source": [
    "dataset = SyntheticFaceDataset(\n",
    "            data=FactoryDataset.factory(\n",
    "                pathname=pathnamedataset, \n",
    "                name=namedataset, \n",
    "                subset=subset, \n",
    "                idenselect=idenselect,\n",
    "                download=True \n",
    "                ),\n",
    "            pathnameback='~/.datasets/coco', \n",
    "            ext='jpg',\n",
    "            count=iteration,\n",
    "            num_channels=3,\n",
    "            iluminate=True, angle=45, translation=0.3, warp=0.2, factor=0.2,\n",
    "            transform_data=get_transforms_aug( imagesize ),\n",
    "            transform_image=get_transforms_det( imagesize ),\n",
    "            )\n"
   ]
  },
  {
   "cell_type": "code",
   "execution_count": 126,
   "metadata": {},
   "outputs": [],
   "source": [
    "x_org, x_img, y_mask, meta = dataset[3]"
   ]
  },
  {
   "cell_type": "code",
   "execution_count": 127,
   "metadata": {},
   "outputs": [],
   "source": [
    "y_lab = meta[0]\n",
    "y_theta   = meta[1:].view(-1, 2, 3)"
   ]
  },
  {
   "cell_type": "code",
   "execution_count": 128,
   "metadata": {},
   "outputs": [
    {
     "data": {
      "text/plain": [
       "tensor([[[ 1.1744,  0.4943,  0.6482],\n",
       "         [-0.6002,  0.6829, -0.0178]]])"
      ]
     },
     "execution_count": 128,
     "metadata": {},
     "output_type": "execute_result"
    }
   ],
   "source": [
    "y_theta"
   ]
  },
  {
   "cell_type": "code",
   "execution_count": 105,
   "metadata": {},
   "outputs": [
    {
     "name": "stdout",
     "output_type": "stream",
     "text": [
      ">> Load model ...\n",
      "=> loading checkpoint '../out/attnet/feratt_attnet_ferattention_attloss_adam_ck_synthetic_filter128_dim32_bbpreactresnet_fold5_000/models/model_best.pth.tar'\n",
      "kw {'dim': 32, 'num_classes': 8, 'num_channels': 3, 'pretrained': False, 'num_filters': 128}\n",
      "num filter in FERAttentionNet 128\n",
      "pool size in FERAttentionNet 2\n"
     ]
    },
    {
     "name": "stderr",
     "output_type": "stream",
     "text": [
      "\r",
      "  0%|          | 0/6 [00:00<?, ?it/s]"
     ]
    },
    {
     "name": "stdout",
     "output_type": "stream",
     "text": [
      "=> loaded checkpoint for ferattention arch!\n",
      "\n",
      "dataset: real\n",
      "Subset: train\n",
      "Classes ['Neutral - NE', 'Happiness - HA', 'Surprise - SU', 'Sadness - SA', 'Anger - AN', 'Disgust - DI', 'Fear - FR', 'Contempt - CO']\n",
      "size of data: 323\n",
      "num of batches 6\n"
     ]
    },
    {
     "name": "stderr",
     "output_type": "stream",
     "text": [
      "100%|██████████| 6/6 [00:00<00:00,  6.60it/s]"
     ]
    },
    {
     "name": "stdout",
     "output_type": "stream",
     "text": [
      "Y_lab_hats shape: (323, 8), y_labs shape: (323,)\n"
     ]
    },
    {
     "name": "stderr",
     "output_type": "stream",
     "text": [
      "\n"
     ]
    }
   ],
   "source": [
    "# Load models\n",
    "print('>> Load model ...')\n",
    "network = fnet[fname](\n",
    "    patchproject=project,\n",
    "    nameproject=projectname,\n",
    "    no_cuda=no_cuda,\n",
    "    parallel=parallel,\n",
    "    seed=seed,\n",
    "    gpu=gpu,\n",
    ")\n",
    "\n",
    "cudnn.benchmark = True\n",
    "\n",
    "# load model\n",
    "if network.load( pathnamemodel ) is not True:\n",
    "    print('>>Error!!! load model')\n",
    "    assert(False)\n",
    "\n",
    "\n",
    "size_input = network.size_input\n",
    "for i, experiment in enumerate(experiments):\n",
    "\n",
    "    name_dataset = experiment['name']\n",
    "    subset = experiment['subset']\n",
    "    breal = experiment['status']\n",
    "    dataset = []\n",
    "\n",
    "    # load dataset \n",
    "    data=FactoryDataset.factory(\n",
    "        pathname=pathnamedataset, \n",
    "        name=namedataset, \n",
    "        subset=subset, \n",
    "        idenselect=idenselect,\n",
    "        download=True \n",
    "    )\n",
    "    if breal == 'real':\n",
    "\n",
    "        # real dataset \n",
    "        dataset = Dataset(    \n",
    "            data=data,\n",
    "            num_channels=3,\n",
    "            transform=get_transforms_det( imagesize ),\n",
    "            )\n",
    "\n",
    "    else:\n",
    "\n",
    "        # synthetic dataset \n",
    "        dataset = SyntheticFaceDataset(\n",
    "            data=FactoryDataset.factory(\n",
    "                pathname=pathnamedataset, \n",
    "                name=namedataset, \n",
    "                subset=subset, \n",
    "                idenselect=idenselect,\n",
    "                download=True \n",
    "                ),\n",
    "            pathnameback='~/.datasets/coco', \n",
    "            ext='jpg',\n",
    "            count=iteration,\n",
    "            num_channels=3,\n",
    "            iluminate=True, angle=45, translation=0.3, warp=0.2, factor=0.2,\n",
    "            transform_data=get_transforms_aug( imagesize ),\n",
    "            transform_image=get_transforms_det( imagesize ),\n",
    "            )\n",
    "\n",
    "    dataloader = DataLoader(dataset, batch_size=64, shuffle=False, num_workers=10 )\n",
    "\n",
    "    print(\"\\ndataset:\", breal)\n",
    "    print(\"Subset:\", subset)\n",
    "    print(\"Classes\", dataloader.dataset.data.classes)\n",
    "    print(\"size of data:\", len(dataset))\n",
    "    print(\"num of batches\", len(dataloader))\n",
    "\n",
    "    # representation\n",
    "    if name_method == 'attgmmnet':\n",
    "        # representation\n",
    "        Y_labs, Y_lab_hats, Zs = network.representation(dataloader, breal)\n",
    "        print(Y_lab_hats.shape, Zs.shape, Y_labs.shape)\n",
    "\n",
    "    #     reppathname = os.path.join(pathproject, 'rep_{}_{}_{}.pth'.format(namedataset, subset,\n",
    "    #                                                                          breal))\n",
    "    #     torch.save({'Yh': Y_lab_hats, 'Z': Zs, 'Y': Y_labs}, reppathname)\n",
    "    #     print('save representation ...', reppathname)\n",
    "\n",
    "    else:\n",
    "        Y_labs, Y_lab_hats= network.representation( dataloader, breal )\n",
    "        print(\"Y_lab_hats shape: {}, y_labs shape: {}\".format(Y_lab_hats.shape, Y_labs.shape))\n"
   ]
  },
  {
   "cell_type": "code",
   "execution_count": 106,
   "metadata": {},
   "outputs": [],
   "source": [
    "yhat = np.argmax( Y_lab_hats, axis=1 )\n",
    "y    = Y_labs"
   ]
  },
  {
   "cell_type": "code",
   "execution_count": 40,
   "metadata": {},
   "outputs": [],
   "source": [
    "success_idx = []\n",
    "wrong_idx = []\n",
    "\n",
    "for i in range(8):\n",
    "    idx = np.where((y == i) & (y == yhat))[0][0]\n",
    "    success_idx.append(idx)\n",
    "    idx = np.where((y==i) & (y != yhat))[0][0]\n",
    "    wrong_idx.append(idx)"
   ]
  },
  {
   "cell_type": "code",
   "execution_count": 41,
   "metadata": {},
   "outputs": [
    {
     "data": {
      "text/plain": [
       "[2, 163, 249, 232, 30, 88, 141, 70]"
      ]
     },
     "execution_count": 41,
     "metadata": {},
     "output_type": "execute_result"
    }
   ],
   "source": [
    "success_idx"
   ]
  },
  {
   "cell_type": "code",
   "execution_count": 42,
   "metadata": {},
   "outputs": [
    {
     "data": {
      "text/plain": [
       "[0, 196, 264, 223, 32, 96, 140, 72]"
      ]
     },
     "execution_count": 42,
     "metadata": {},
     "output_type": "execute_result"
    }
   ],
   "source": [
    "wrong_idx"
   ]
  },
  {
   "cell_type": "code",
   "execution_count": 71,
   "metadata": {},
   "outputs": [],
   "source": [
    "def plot_gallery(images, titles, c, h, w, n_row=3, n_col=4):\n",
    "    \"\"\"Helper function to plot a gallery of portraits\"\"\"\n",
    "    plt.figure(figsize=(1.8 * n_col, 2.4 * n_row))\n",
    "    plt.subplots_adjust(bottom=0, left=.01, right=.99, top=.90, hspace=.35)\n",
    "    for i in range(n_row * n_col):\n",
    "        plt.subplot(n_row, n_col, i + 1)\n",
    "        plt.imshow(images[i], cmap=plt.cm.gray)\n",
    "        plt.title(titles[i], size=12)\n",
    "        plt.xticks(())\n",
    "        plt.yticks(())\n",
    "\n",
    "\n",
    "# plot the result of the prediction on a portion of the test set\n",
    "\n",
    "def title(y_pred, y_test, target_names, i):\n",
    "    pred_name = target_names[y_pred[i]].rsplit(' ', 1)[-1]\n",
    "    true_name = target_names[y_test[i]].rsplit(' ', 1)[-1]\n",
    "    return 'Predicted: %s\\nActual:      %s' % (pred_name, true_name)\n",
    "\n"
   ]
  },
  {
   "cell_type": "code",
   "execution_count": 69,
   "metadata": {},
   "outputs": [],
   "source": [
    "target_names = ['Neutral', 'Happiness', 'Surprise', 'Sadness', 'Anger', 'Disgust', 'Fear','Contempt']"
   ]
  },
  {
   "cell_type": "code",
   "execution_count": 97,
   "metadata": {},
   "outputs": [
    {
     "name": "stdout",
     "output_type": "stream",
     "text": [
      "[  2  32 249 163  30  88 264 223  72  70  96 140]\n"
     ]
    }
   ],
   "source": [
    "np.random.seed(23)\n",
    "curr = np.random.permutation(success_idx + wrong_idx)[:12]\n",
    "print(curr)\n"
   ]
  },
  {
   "cell_type": "code",
   "execution_count": 107,
   "metadata": {},
   "outputs": [],
   "source": [
    "y_pred = yhat[curr]\n",
    "y_test = y[curr]\n",
    "X_test = []\n",
    "y_label = []\n",
    "\n",
    "for idx in curr:\n",
    "    X_test.append(data[idx][0])\n",
    "    y_label.append(data[idx][1])\n",
    "    "
   ]
  },
  {
   "cell_type": "code",
   "execution_count": 108,
   "metadata": {},
   "outputs": [
    {
     "data": {
      "text/plain": [
       "True"
      ]
     },
     "execution_count": 108,
     "metadata": {},
     "output_type": "execute_result"
    }
   ],
   "source": [
    "np.all(np.array(y_label) == y_test)"
   ]
  },
  {
   "cell_type": "code",
   "execution_count": 110,
   "metadata": {},
   "outputs": [
    {
     "data": {
      "image/png": "[encoded data removed]",
      "text/plain": [
       "<Figure size 777.6x345.6 with 12 Axes>"
      ]
     },
     "metadata": {},
     "output_type": "display_data"
    }
   ],
   "source": [
    "prediction_titles = [title(y_pred, y_test, target_names, i)\n",
    "                     for i in range(y_pred.shape[0])]\n",
    "c, h, w = 3, 64, 64\n",
    "plot_gallery(X_test, prediction_titles, c, h, w, n_row=2, n_col=6)\n",
    "plt.savefig(\"ck_regonition_ferattn_improved.png\", dpi=500, bbox_inches=\"tight\")"
   ]
  },
  {
   "cell_type": "code",
   "execution_count": 101,
   "metadata": {},
   "outputs": [],
   "source": [
    "data_store = []\n",
    "curr_idx = '2  32 249 163  30  88 264 223  72  70  96 140'.split()\n",
    "curr_idx = list(map(int, curr_idx))\n",
    "for idx in curr_idx:\n",
    "    data_store.append(data[idx])"
   ]
  },
  {
   "cell_type": "code",
   "execution_count": 102,
   "metadata": {},
   "outputs": [
    {
     "data": {
      "text/plain": [
       "12"
      ]
     },
     "execution_count": 102,
     "metadata": {},
     "output_type": "execute_result"
    }
   ],
   "source": [
    "# len(data_store)"
   ]
  },
  {
   "cell_type": "code",
   "execution_count": null,
   "metadata": {},
   "outputs": [],
   "source": []
  }
 ],
 "metadata": {
  "kernelspec": {
   "display_name": "Python 3",
   "language": "python",
   "name": "python3"
  },
  "language_info": {
   "codemirror_mode": {
    "name": "ipython",
    "version": 3
   },
   "file_extension": ".py",
   "mimetype": "text/x-python",
   "name": "python",
   "nbconvert_exporter": "python",
   "pygments_lexer": "ipython3",
   "version": "3.8.5"
  }
 },
 "nbformat": 4,
 "nbformat_minor": 4
}
